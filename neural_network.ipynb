{
 "cells": [
  {
   "cell_type": "code",
   "execution_count": 16,
   "metadata": {
    "collapsed": true
   },
   "outputs": [],
   "source": [
    "def print_info_about_data(train_data,test_data,train_labels,test_labels):\n",
    "    print(\"Number of training examples : \" , train_data.shape[0])\n",
    "    print(\"Number of testing examples : \" , test_data.shape[0])\n",
    "    print(\"Number of features : \" , test_data.shape[1])\n",
    "    print(\"Shape of training data : \", train_data.shape)\n",
    "    print(\"Shape of testing data : \", test_data.shape)\n",
    "    print(\"Shape of training labels : \", train_labels.shape)\n",
    "    print(\"Shape of testing labels : \", test_labels.shape)"
   ]
  },
  {
   "cell_type": "code",
   "execution_count": 17,
   "metadata": {
    "collapsed": true
   },
   "outputs": [],
   "source": [
    "def one_hot_matrix(labels,nclasses = 10):\n",
    "    res = np.zeros((len(labels),nclasses))\n",
    "    for i,l in enumerate(labels):\n",
    "        res[i,int(l)] = 1\n",
    "    return res  "
   ]
  },
  {
   "cell_type": "code",
   "execution_count": 18,
   "metadata": {
    "collapsed": true
   },
   "outputs": [],
   "source": [
    "def show_sample(train_data,train_labels,index_of_data):\n",
    "    data = train_data[index_of_data]\n",
    "    label = train_labels[index_of_data,:]\n",
    "    transformed_data = np.reshape(data,[8,8]).astype(np.float32) \n",
    "    plt.figure(figsize=(1,1))\n",
    "    plt.title('Input is %i'%np.argmax(label))\n",
    "    plt.imshow(transformed_data,cmap='gray')\n",
    "    plt.show()"
   ]
  },
  {
   "cell_type": "code",
   "execution_count": 19,
   "metadata": {
    "collapsed": true
   },
   "outputs": [],
   "source": [
    "def compute_accuracy(input_data,input_labels):\n",
    "    correct_prediction = tf.equal(tf.argmax(yhat,1),tf.argmax(y,1))\n",
    "    accuracy = tf.reduce_mean(tf.cast(correct_prediction, \"float\"))\n",
    "    return round(accuracy.eval(feed_dict = {x:input_data,y:input_labels})*100,2)"
   ]
  },
  {
   "cell_type": "code",
   "execution_count": 21,
   "metadata": {
    "scrolled": false
   },
   "outputs": [
    {
     "name": "stdout",
     "output_type": "stream",
     "text": [
      "Number of training examples :  3823\n",
      "Number of testing examples :  1797\n",
      "Number of features :  64\n",
      "Shape of training data :  (3823, 64)\n",
      "Shape of testing data :  (1797, 64)\n",
      "Shape of training labels :  (3823, 10)\n",
      "Shape of testing labels :  (1797, 10)\n"
     ]
    },
    {
     "data": {
      "image/png": "[encoded data removed]",
      "text/plain": [
       "<matplotlib.figure.Figure at 0x1153fac88>"
      ]
     },
     "metadata": {},
     "output_type": "display_data"
    },
    {
     "name": "stdout",
     "output_type": "stream",
     "text": [
      "Iteration number :  0\n",
      "Cost :  2.24730753899\n",
      "Training accuracy : 13.78 Testing accuracy : 14.13\n",
      "Iteration number :  50\n",
      "Cost :  0.153680741787\n",
      "Training accuracy : 95.32 Testing accuracy : 92.21\n",
      "Iteration number :  100\n",
      "Cost :  0.0853009223938\n",
      "Training accuracy : 98.06 Testing accuracy : 93.88\n",
      "Iteration number :  150\n",
      "Cost :  0.0598869808018\n",
      "Training accuracy : 98.56 Testing accuracy : 94.32\n",
      "Iteration number :  200\n",
      "Cost :  0.0453149080276\n",
      "Training accuracy : 99.06 Testing accuracy : 94.55\n",
      "Iteration number :  250\n",
      "Cost :  0.0354041345417\n",
      "Training accuracy : 99.27 Testing accuracy : 94.6\n",
      "Iteration number :  300\n",
      "Cost :  0.0281726494431\n",
      "Training accuracy : 99.42 Testing accuracy : 94.55\n",
      "Iteration number :  350\n",
      "Cost :  0.0226860065013\n",
      "Training accuracy : 99.66 Testing accuracy : 94.71\n",
      "Iteration number :  400\n",
      "Cost :  0.0184250008315\n",
      "Training accuracy : 99.76 Testing accuracy : 94.99\n",
      "Iteration number :  450\n",
      "Cost :  0.0150987068191\n",
      "Training accuracy : 99.76 Testing accuracy : 94.94\n",
      "Iteration number :  500\n",
      "Cost :  0.0125026777387\n",
      "Training accuracy : 99.76 Testing accuracy : 94.82\n",
      "Iteration number :  550\n",
      "Cost :  0.01045877859\n",
      "Training accuracy : 99.87 Testing accuracy : 94.88\n",
      "Iteration number :  600\n",
      "Cost :  0.00883093103766\n",
      "Training accuracy : 99.95 Testing accuracy : 94.88\n",
      "Iteration number :  650\n",
      "Cost :  0.00752144912258\n",
      "Training accuracy : 99.97 Testing accuracy : 94.88\n",
      "Iteration number :  700\n",
      "Cost :  0.00645711831748\n",
      "Training accuracy : 99.97 Testing accuracy : 94.82\n",
      "Iteration number :  750\n",
      "Cost :  0.00558349490166\n",
      "Training accuracy : 99.97 Testing accuracy : 94.82\n",
      "Iteration number :  800\n",
      "Cost :  0.00486055575311\n",
      "Training accuracy : 99.97 Testing accuracy : 94.82\n",
      "Iteration number :  850\n",
      "Cost :  0.00425716955215\n",
      "Training accuracy : 100.0 Testing accuracy : 94.71\n",
      "Iteration number :  900\n",
      "Cost :  0.00374476215802\n",
      "Training accuracy : 100.0 Testing accuracy : 94.66\n",
      "Iteration number :  950\n",
      "Cost :  0.00330707617104\n",
      "Training accuracy : 100.0 Testing accuracy : 94.71\n",
      "Iteration number :  1000\n",
      "Cost :  0.00293397577479\n",
      "Training accuracy : 100.0 Testing accuracy : 94.71\n",
      "Iteration number :  1050\n",
      "Cost :  0.00261774519458\n",
      "Training accuracy : 100.0 Testing accuracy : 94.71\n",
      "Iteration number :  1100\n",
      "Cost :  0.00234682415612\n",
      "Training accuracy : 100.0 Testing accuracy : 94.71\n",
      "Iteration number :  1150\n",
      "Cost :  0.00211359956302\n",
      "Training accuracy : 100.0 Testing accuracy : 94.71\n",
      "Iteration number :  1200\n",
      "Cost :  0.00191133993212\n",
      "Training accuracy : 100.0 Testing accuracy : 94.71\n",
      "Iteration number :  1250\n",
      "Cost :  0.00173482717946\n",
      "Training accuracy : 100.0 Testing accuracy : 94.71\n",
      "Iteration number :  1300\n",
      "Cost :  0.00158020225354\n",
      "Training accuracy : 100.0 Testing accuracy : 94.71\n",
      "Iteration number :  1350\n",
      "Cost :  0.00144387688488\n",
      "Training accuracy : 100.0 Testing accuracy : 94.71\n",
      "Iteration number :  1400\n",
      "Cost :  0.00132324814331\n",
      "Training accuracy : 100.0 Testing accuracy : 94.71\n",
      "Iteration number :  1450\n",
      "Cost :  0.00121592648793\n",
      "Training accuracy : 100.0 Testing accuracy : 94.71\n"
     ]
    },
    {
     "data": {
      "image/png": "[encoded data removed]",
      "text/plain": [
       "<matplotlib.figure.Figure at 0x114c88780>"
      ]
     },
     "metadata": {},
     "output_type": "display_data"
    },
    {
     "data": {
      "image/png": "[encoded data removed]",
      "text/plain": [
       "<matplotlib.figure.Figure at 0x1145725c0>"
      ]
     },
     "metadata": {},
     "output_type": "display_data"
    },
    {
     "data": {
      "image/png": "[encoded data removed]",
      "text/plain": [
       "<matplotlib.figure.Figure at 0x1128e7f60>"
      ]
     },
     "metadata": {},
     "output_type": "display_data"
    },
    {
     "name": "stdout",
     "output_type": "stream",
     "text": [
      "Output is:  4\n"
     ]
    }
   ],
   "source": [
    "import tensorflow as tf\n",
    "import matplotlib.pyplot as plt\n",
    "import numpy as np\n",
    "import math as math\n",
    "import csv\n",
    "\n",
    "#LOAD INPUT\n",
    "input_train = np.genfromtxt('optdigits.tra.txt', delimiter=',')\n",
    "input_test = np.genfromtxt('optdigits.tes.txt', delimiter=',')\n",
    "\n",
    "#PRE PROCESS INPUT\n",
    "train_data,train_labels = input_train[:,0:input_train.shape[1]-1]/16,input_train[:,input_train.shape[1]-1]\n",
    "test_data,test_labels = input_test[:,0:input_test.shape[1]-1]/16,input_test[:,input_test.shape[1]-1]     \n",
    "processed_train_labels = one_hot_matrix(train_labels)\n",
    "processed_test_labels = one_hot_matrix(test_labels)\n",
    "\n",
    "#PRINT INFO ABOUT THE DATA\n",
    "print_info_about_data(train_data,test_data,processed_train_labels,processed_test_labels)\n",
    "\n",
    "#SHOW SAMPLE DATA\n",
    "show_sample(train_data,processed_train_labels,np.random.randint(train_data.shape[0]))\n",
    "\n",
    "#INITIALIZE VARIABLES AND PLACEHOLDERS\n",
    "beta = 0.003\n",
    "num_hidden_units = 12\n",
    "x = tf.placeholder(\"float\", [None,64])\n",
    "y = tf.placeholder(\"float\", [None,10])\n",
    "W1 = tf.Variable(tf.truncated_normal([64,num_hidden_units],stddev=1./math.sqrt(64)))\n",
    "b1 = tf.Variable(tf.zeros([num_hidden_units]))\n",
    "W2 = tf.Variable(tf.truncated_normal([num_hidden_units,10],stddev=1./math.sqrt(num_hidden_units)))\n",
    "b2 = tf.Variable(tf.zeros([10]))\n",
    "\n",
    "#LOGISTIC REGREGRESSION EQUATIONS\n",
    "a1 = tf.nn.relu(tf.matmul(x,W1) + b1)\n",
    "yhat = tf.matmul(a1,W2) + b2\n",
    "cross_entropy_cost = tf.reduce_mean(tf.nn.softmax_cross_entropy_with_logits(logits = yhat,labels = y))\n",
    "regularizer1 = tf.nn.l2_loss(W1)\n",
    "regularizer2 = tf.nn.l2_loss(W2)\n",
    "cost = tf.reduce_mean(cross_entropy_cost + beta * regularizer1 + beta * regularizer2)\n",
    "optimization_step = tf.train.AdamOptimizer(0.02).minimize(cross_entropy_cost)\n",
    "   \n",
    "#CREATE SESSION AND INITIALIZE IT\n",
    "sess = tf.InteractiveSession()\n",
    "sess.run(tf.global_variables_initializer())\n",
    "\n",
    "#RUN GRADIENT DESCENT\n",
    "epochs = 1500\n",
    "train_acc = np.zeros(epochs//50) #converts to the lowest integer\n",
    "test_acc = np.zeros(epochs//50)\n",
    "cost = np.zeros(epochs//50)\n",
    "for i in range(epochs):   \n",
    "    sess.run(optimization_step,feed_dict={ x: train_data,y: processed_train_labels})\n",
    "    if (i%50 == 0):\n",
    "        print(\"Iteration number : \" , i)\n",
    "        cost[i//50] = sess.run(cross_entropy_cost,feed_dict = {x: train_data,y: processed_train_labels})\n",
    "        train_acc[i//50] = compute_accuracy(train_data,processed_train_labels)\n",
    "        test_acc[i//50] = compute_accuracy(test_data,processed_test_labels)       \n",
    "        print(\"Cost : \" , cost[i//50])       \n",
    "        print(\"Training accuracy :\" ,train_acc[i//50],\"Testing accuracy :\" ,test_acc[i//50]) \n",
    "        \n",
    "#PLOT COST, TRAINING AND TEST ACCURACY\n",
    "# Plot the accuracy curves\n",
    "plt.figure(figsize=(6,6))\n",
    "plt.title(\"Train and Test accuracy\")\n",
    "plt.plot(train_acc,'b-')\n",
    "plt.plot(test_acc,'r-')\n",
    "\n",
    "# Plot the confusion matrix\n",
    "pred = np.argmax(yhat.eval(feed_dict={x:test_data}), axis = 1)\n",
    "confusion_matrix = np.zeros([10,10])\n",
    "for p,t in zip(pred,np.argmax(processed_test_labels,axis=1)):\n",
    "    confusion_matrix[t,p] += 1\n",
    "plt.matshow(confusion_matrix)\n",
    "plt.colorbar()\n",
    "plt.show()\n",
    "\n",
    "#TESTING WITH SAMPLE IMAGE\n",
    "test_output_index = np.random.randint(test_data.shape[0])\n",
    "show_sample(test_data,processed_test_labels,test_output_index)\n",
    "print(\"Output is: \",np.argmax(sess.run(yhat,feed_dict={x:test_data[test_output_index:test_output_index+1,:]})))"
   ]
  },
  {
   "cell_type": "code",
   "execution_count": null,
   "metadata": {
    "collapsed": true
   },
   "outputs": [],
   "source": []
  }
 ],
 "metadata": {
  "kernelspec": {
   "display_name": "Python 3",
   "language": "python",
   "name": "python3"
  },
  "language_info": {
   "codemirror_mode": {
    "name": "ipython",
    "version": 3
   },
   "file_extension": ".py",
   "mimetype": "text/x-python",
   "name": "python",
   "nbconvert_exporter": "python",
   "pygments_lexer": "ipython3",
   "version": "3.6.2"
  }
 },
 "nbformat": 4,
 "nbformat_minor": 2
}
