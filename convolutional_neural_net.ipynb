{
 "cells": [
  {
   "cell_type": "code",
   "execution_count": null,
   "metadata": {
    "collapsed": true
   },
   "outputs": [],
   "source": [
    "def print_info_about_data(train_data,test_data,train_labels,test_labels):\n",
    "    print(\"Number of training examples : \" , train_data.shape[0])\n",
    "    print(\"Number of testing examples : \" , test_data.shape[0])\n",
    "    print(\"Number of features : \" , test_data.shape[1])\n",
    "    print(\"Shape of training data : \", train_data.shape)\n",
    "    print(\"Shape of testing data : \", test_data.shape)\n",
    "    print(\"Shape of training labels : \", train_labels.shape)\n",
    "    print(\"Shape of testing labels : \", test_labels.shape)"
   ]
  },
  {
   "cell_type": "code",
   "execution_count": 2,
   "metadata": {
    "collapsed": true
   },
   "outputs": [],
   "source": [
    "def one_hot_matrix(labels,nclasses = 10):\n",
    "    res = np.zeros((len(labels),nclasses))\n",
    "    for i,l in enumerate(labels):\n",
    "        res[i,int(l)] = 1\n",
    "    return res  "
   ]
  },
  {
   "cell_type": "code",
   "execution_count": 3,
   "metadata": {
    "collapsed": true
   },
   "outputs": [],
   "source": [
    "def show_sample(train_data,train_labels,index_of_data):\n",
    "    data = train_data[index_of_data]\n",
    "    label = train_labels[index_of_data,:]\n",
    "    transformed_data = np.reshape(data,[8,8]).astype(np.float32) \n",
    "    plt.figure(figsize=(1,1))\n",
    "    plt.title('Input is %i'%np.argmax(label))\n",
    "    plt.imshow(transformed_data,cmap='gray')\n",
    "    plt.show()"
   ]
  },
  {
   "cell_type": "code",
   "execution_count": 4,
   "metadata": {
    "collapsed": true
   },
   "outputs": [],
   "source": [
    "def compute_accuracy(input_data,input_labels):\n",
    "    correct_prediction = tf.equal(tf.argmax(yhat,1),tf.argmax(y,1))\n",
    "    accuracy = tf.reduce_mean(tf.cast(correct_prediction, \"float\"))\n",
    "    return round(accuracy.eval(feed_dict = {x:input_data,y:input_labels,pooled_layer_size:pooled_image_size})*100,2)"
   ]
  },
  {
   "cell_type": "code",
   "execution_count": 7,
   "metadata": {
    "scrolled": false
   },
   "outputs": [
    {
     "name": "stdout",
     "output_type": "stream",
     "text": [
      "Number of training examples :  3823\n",
      "Number of testing examples :  1797\n",
      "Number of features :  64\n",
      "Shape of training data :  (3823, 64)\n",
      "Shape of testing data :  (1797, 64)\n",
      "Shape of training labels :  (3823, 10)\n",
      "Shape of testing labels :  (1797, 10)\n"
     ]
    },
    {
     "data": {
      "image/png": "[encoded data removed]",
      "text/plain": [
       "<matplotlib.figure.Figure at 0x116002588>"
      ]
     },
     "metadata": {},
     "output_type": "display_data"
    },
    {
     "name": "stdout",
     "output_type": "stream",
     "text": [
      "Iteration number :  0\n",
      "Cost :  2.29387068748\n",
      "Training accuracy : 14.23 Testing accuracy : 11.52\n",
      "Iteration number :  50\n",
      "Cost :  2.05428218842\n",
      "Training accuracy : 36.75 Testing accuracy : 34.39\n",
      "Iteration number :  100\n",
      "Cost :  1.62706291676\n",
      "Training accuracy : 60.14 Testing accuracy : 55.43\n",
      "Iteration number :  150\n",
      "Cost :  1.08405983448\n",
      "Training accuracy : 79.02 Testing accuracy : 75.46\n",
      "Iteration number :  200\n",
      "Cost :  0.648404657841\n",
      "Training accuracy : 88.15 Testing accuracy : 85.53\n",
      "Iteration number :  250\n",
      "Cost :  0.372804731131\n",
      "Training accuracy : 92.49 Testing accuracy : 89.26\n",
      "Iteration number :  300\n",
      "Cost :  0.252903878689\n",
      "Training accuracy : 94.45 Testing accuracy : 92.1\n",
      "Iteration number :  350\n",
      "Cost :  0.195057809353\n",
      "Training accuracy : 95.45 Testing accuracy : 93.04\n",
      "Iteration number :  400\n",
      "Cost :  0.161481559277\n",
      "Training accuracy : 96.21 Testing accuracy : 93.99\n",
      "Iteration number :  450\n",
      "Cost :  0.139079451561\n",
      "Training accuracy : 96.7 Testing accuracy : 94.44\n",
      "Iteration number :  500\n",
      "Cost :  0.122909463942\n",
      "Training accuracy : 96.99 Testing accuracy : 94.71\n",
      "Iteration number :  550\n",
      "Cost :  0.110337823629\n",
      "Training accuracy : 97.23 Testing accuracy : 95.1\n",
      "Iteration number :  600\n",
      "Cost :  0.10005851835\n",
      "Training accuracy : 97.49 Testing accuracy : 95.21\n",
      "Iteration number :  650\n",
      "Cost :  0.0913083478808\n",
      "Training accuracy : 97.67 Testing accuracy : 95.44\n",
      "Iteration number :  700\n",
      "Cost :  0.0837526768446\n",
      "Training accuracy : 97.86 Testing accuracy : 95.49\n",
      "Iteration number :  750\n",
      "Cost :  0.0770969688892\n",
      "Training accuracy : 98.01 Testing accuracy : 95.72\n",
      "Iteration number :  800\n",
      "Cost :  0.071205124259\n",
      "Training accuracy : 98.3 Testing accuracy : 95.77\n",
      "Iteration number :  850\n",
      "Cost :  0.0659213513136\n",
      "Training accuracy : 98.4 Testing accuracy : 95.72\n",
      "Iteration number :  900\n",
      "Cost :  0.0611054375768\n",
      "Training accuracy : 98.46 Testing accuracy : 95.83\n",
      "Iteration number :  950\n",
      "Cost :  0.0567066147923\n",
      "Training accuracy : 98.72 Testing accuracy : 96.1\n",
      "Iteration number :  1000\n",
      "Cost :  0.0526859052479\n",
      "Training accuracy : 98.82 Testing accuracy : 96.1\n",
      "Iteration number :  1050\n",
      "Cost :  0.0490603260696\n",
      "Training accuracy : 99.01 Testing accuracy : 96.22\n",
      "Iteration number :  1100\n",
      "Cost :  0.0456745363772\n",
      "Training accuracy : 99.11 Testing accuracy : 96.27\n",
      "Iteration number :  1150\n",
      "Cost :  0.042549084872\n",
      "Training accuracy : 99.16 Testing accuracy : 96.27\n",
      "Iteration number :  1200\n",
      "Cost :  0.0396153591573\n",
      "Training accuracy : 99.24 Testing accuracy : 96.27\n",
      "Iteration number :  1250\n",
      "Cost :  0.0368683300912\n",
      "Training accuracy : 99.32 Testing accuracy : 96.38\n",
      "Iteration number :  1300\n",
      "Cost :  0.0343501754105\n",
      "Training accuracy : 99.45 Testing accuracy : 96.33\n",
      "Iteration number :  1350\n",
      "Cost :  0.0320288389921\n",
      "Training accuracy : 99.48 Testing accuracy : 96.38\n",
      "Iteration number :  1400\n",
      "Cost :  0.0298829320818\n",
      "Training accuracy : 99.5 Testing accuracy : 96.44\n",
      "Iteration number :  1450\n",
      "Cost :  0.0278783589602\n",
      "Training accuracy : 99.5 Testing accuracy : 96.61\n",
      "Iteration number :  1500\n",
      "Cost :  0.0260060112923\n",
      "Training accuracy : 99.56 Testing accuracy : 96.66\n",
      "Iteration number :  1550\n",
      "Cost :  0.0242585409433\n",
      "Training accuracy : 99.58 Testing accuracy : 96.66\n",
      "Iteration number :  1600\n",
      "Cost :  0.0226261112839\n",
      "Training accuracy : 99.66 Testing accuracy : 96.72\n",
      "Iteration number :  1650\n",
      "Cost :  0.021096304059\n",
      "Training accuracy : 99.74 Testing accuracy : 96.77\n",
      "Iteration number :  1700\n",
      "Cost :  0.019657548517\n",
      "Training accuracy : 99.76 Testing accuracy : 96.77\n",
      "Iteration number :  1750\n",
      "Cost :  0.0182989034802\n",
      "Training accuracy : 99.76 Testing accuracy : 96.61\n",
      "Iteration number :  1800\n",
      "Cost :  0.0170093011111\n",
      "Training accuracy : 99.76 Testing accuracy : 96.66\n",
      "Iteration number :  1850\n",
      "Cost :  0.015812356025\n",
      "Training accuracy : 99.84 Testing accuracy : 96.66\n",
      "Iteration number :  1900\n",
      "Cost :  0.0146931661293\n",
      "Training accuracy : 99.84 Testing accuracy : 96.66\n",
      "Iteration number :  1950\n",
      "Cost :  0.0136545458809\n",
      "Training accuracy : 99.84 Testing accuracy : 96.66\n"
     ]
    },
    {
     "data": {
      "image/png": "[encoded data removed]",
      "text/plain": [
       "<matplotlib.figure.Figure at 0x108226f60>"
      ]
     },
     "metadata": {},
     "output_type": "display_data"
    },
    {
     "data": {
      "image/png": "[encoded data removed]",
      "text/plain": [
       "<matplotlib.figure.Figure at 0x1163d9f98>"
      ]
     },
     "metadata": {},
     "output_type": "display_data"
    },
    {
     "data": {
      "image/png": "[encoded data removed]",
      "text/plain": [
       "<matplotlib.figure.Figure at 0x119f4ee48>"
      ]
     },
     "metadata": {},
     "output_type": "display_data"
    },
    {
     "name": "stdout",
     "output_type": "stream",
     "text": [
      "Output is:  4\n"
     ]
    }
   ],
   "source": [
    "import tensorflow as tf\n",
    "import matplotlib.pyplot as plt\n",
    "import numpy as np\n",
    "import math as math\n",
    "import csv\n",
    "\n",
    "#LOAD INPUT\n",
    "input_train = np.genfromtxt('optdigits.tra.txt', delimiter=',')\n",
    "input_test = np.genfromtxt('optdigits.tes.txt', delimiter=',')\n",
    "\n",
    "#PRE PROCESS INPUT\n",
    "train_data,train_labels = input_train[:,0:input_train.shape[1]-1]/16,input_train[:,input_train.shape[1]-1]\n",
    "test_data,test_labels = input_test[:,0:input_test.shape[1]-1]/16,input_test[:,input_test.shape[1]-1]     \n",
    "processed_train_labels = one_hot_matrix(train_labels)\n",
    "processed_test_labels = one_hot_matrix(test_labels)\n",
    "\n",
    "#PRINT INFO ABOUT THE DATA\n",
    "print_info_about_data(train_data,test_data,processed_train_labels,processed_test_labels)\n",
    "\n",
    "#SHOW SAMPLE DATA\n",
    "show_sample(train_data,processed_train_labels,np.random.randint(train_data.shape[0]))\n",
    "\n",
    "#INITIALIZE VARIABLES AND PLACEHOLDERS\n",
    "beta = 0.003\n",
    "winx = 3\n",
    "winy = 3\n",
    "num_filters = 5\n",
    "num_hidden_units = 12\n",
    "x = tf.placeholder(\"float\", [None,64])\n",
    "y = tf.placeholder(\"float\", [None,10])\n",
    "\n",
    "W1 = tf.Variable(tf.truncated_normal([winx, winy,1, num_filters],stddev=1./math.sqrt(winx*winy)))\n",
    "b1 = tf.Variable(tf.constant(0.1,shape=[num_filters]))\n",
    "b2 = tf.Variable(tf.zeros([num_hidden_units]))\n",
    "W3 = tf.Variable(tf.truncated_normal([num_hidden_units,10],stddev=1./math.sqrt(num_hidden_units)))\n",
    "b3 = tf.Variable(tf.zeros([10]))\n",
    "\n",
    "#CONVOLUTIONAL NEURAL NETS EQUATIONS\n",
    "x_image = tf.reshape(x,[-1,8,8,1])\n",
    "x_convolved_image = tf.nn.conv2d(x_image, W1,strides=[1, 1, 1, 1],padding='SAME')\n",
    "x_conv_activated = tf.nn.relu(x_convolved_image + b1)\n",
    "x_max_pooled = tf.nn.max_pool(x_conv_activated, ksize=[1, 2, 2, 1],strides=[1, 2, 2, 1], padding='VALID')\n",
    "pooled_image_size = np.product([s.value for s in x_max_pooled.get_shape()[1:]])\n",
    "x_pooled_reshaped = tf.reshape(x_max_pooled, [-1, pooled_image_size ])\n",
    "W2 = tf.Variable(tf.truncated_normal([pooled_image_size,num_hidden_units],stddev=1./math.sqrt(pooled_image_size)))\n",
    "a1 = tf.nn.relu(tf.matmul(x_pooled_reshaped,W2) + b2)\n",
    "yhat = tf.matmul(a1,W3) + b3\n",
    "cross_entropy_cost = tf.reduce_mean(tf.nn.softmax_cross_entropy_with_logits(logits = yhat,labels = y))\n",
    "regularizer1 = tf.nn.l2_loss(W1)\n",
    "regularizer2 = tf.nn.l2_loss(W2)\n",
    "cost = tf.reduce_mean(cross_entropy_cost + beta * regularizer1 + beta * regularizer2)\n",
    "optimization_step = tf.train.AdamOptimizer(0.001).minimize(cross_entropy_cost)\n",
    "   \n",
    "#CREATE SESSION AND INITIALIZE IT\n",
    "sess = tf.InteractiveSession()\n",
    "sess.run(tf.global_variables_initializer())\n",
    "\n",
    "#RUN GRADIENT DESCENT\n",
    "epochs = 2000\n",
    "train_acc = np.zeros(epochs//50) #converts to the lowest integer\n",
    "test_acc = np.zeros(epochs//50)\n",
    "cost = np.zeros(epochs//50)\n",
    "for i in range(epochs):   \n",
    "    sess.run(optimization_step,feed_dict={ x: train_data,y: processed_train_labels})\n",
    "    if (i%50 == 0):\n",
    "        print(\"Iteration number : \" , i)\n",
    "        cost[i//50] = sess.run(cross_entropy_cost,feed_dict = {x: train_data,y: processed_train_labels})\n",
    "        train_acc[i//50] = compute_accuracy(train_data,processed_train_labels)\n",
    "        test_acc[i//50] = compute_accuracy(test_data,processed_test_labels)       \n",
    "        print(\"Cost : \" , cost[i//50])       \n",
    "        print(\"Training accuracy :\" ,train_acc[i//50],\"Testing accuracy :\" ,test_acc[i//50]) \n",
    "        \n",
    "#PLOT COST, TRAINING AND TEST ACCURACY\n",
    "# Plot the accuracy curves\n",
    "plt.figure(figsize=(6,6))\n",
    "plt.title(\"Train and Test accuracy\")\n",
    "plt.plot(train_acc,'b-')\n",
    "plt.plot(test_acc,'r-')\n",
    "\n",
    "# Plot the confusion matrix\n",
    "pred = np.argmax(yhat.eval(feed_dict={x:test_data}), axis = 1)\n",
    "confusion_matrix = np.zeros([10,10])\n",
    "for p,t in zip(pred,np.argmax(processed_test_labels,axis=1)):\n",
    "    confusion_matrix[t,p] += 1\n",
    "plt.matshow(confusion_matrix)\n",
    "plt.colorbar()\n",
    "plt.show()\n",
    "\n",
    "#TESTING WITH SAMPLE IMAGE\n",
    "test_output_index = np.random.randint(test_data.shape[0])\n",
    "show_sample(test_data,processed_test_labels,test_output_index)\n",
    "print(\"Output is: \",np.argmax(sess.run(yhat,feed_dict={x:test_data[test_output_index:test_output_index+1,:]})))"
   ]
  },
  {
   "cell_type": "code",
   "execution_count": null,
   "metadata": {
    "collapsed": true
   },
   "outputs": [],
   "source": []
  }
 ],
 "metadata": {
  "kernelspec": {
   "display_name": "Python 3",
   "language": "python",
   "name": "python3"
  },
  "language_info": {
   "codemirror_mode": {
    "name": "ipython",
    "version": 3
   },
   "file_extension": ".py",
   "mimetype": "text/x-python",
   "name": "python",
   "nbconvert_exporter": "python",
   "pygments_lexer": "ipython3",
   "version": "3.6.2"
  }
 },
 "nbformat": 4,
 "nbformat_minor": 2
}
