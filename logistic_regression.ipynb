{
 "cells": [
  {
   "cell_type": "code",
   "execution_count": 13,
   "metadata": {
    "collapsed": true
   },
   "outputs": [],
   "source": [
    "def print_info_about_data(train_data,test_data,train_labels,test_labels):\n",
    "    print(\"Number of training examples : \" , train_data.shape[0])\n",
    "    print(\"Number of testing examples : \" , test_data.shape[0])\n",
    "    print(\"Number of features : \" , test_data.shape[1])\n",
    "    print(\"Shape of training data : \", train_data.shape)\n",
    "    print(\"Shape of testing data : \", test_data.shape)\n",
    "    print(\"Shape of training labels : \", train_labels.shape)\n",
    "    print(\"Shape of testing labels : \", test_labels.shape)"
   ]
  },
  {
   "cell_type": "code",
   "execution_count": 14,
   "metadata": {
    "collapsed": true
   },
   "outputs": [],
   "source": [
    "def one_hot_matrix(labels,nclasses = 10):\n",
    "    res = np.zeros((len(labels),nclasses))\n",
    "    for i,l in enumerate(labels):\n",
    "        res[i,int(l)] = 1\n",
    "    return res  "
   ]
  },
  {
   "cell_type": "code",
   "execution_count": 15,
   "metadata": {
    "collapsed": true
   },
   "outputs": [],
   "source": [
    "def show_sample(train_data,train_labels,index_of_data):\n",
    "    data = train_data[index_of_data]\n",
    "    label = train_labels[index_of_data,:]\n",
    "    transformed_data = np.reshape(data,[8,8]).astype(np.float32) \n",
    "    plt.figure(figsize=(1,1))\n",
    "    plt.title('Input is %i'%np.argmax(label))\n",
    "    plt.imshow(transformed_data,cmap='gray')\n",
    "    plt.show()"
   ]
  },
  {
   "cell_type": "code",
   "execution_count": 16,
   "metadata": {
    "collapsed": true
   },
   "outputs": [],
   "source": [
    "def compute_accuracy(input_data,input_labels):\n",
    "    correct_prediction = tf.equal(tf.argmax(yhat,1),tf.argmax(y,1))\n",
    "    accuracy = tf.reduce_mean(tf.cast(correct_prediction, \"float\"))\n",
    "    return round(accuracy.eval(feed_dict = {x:input_data,y:input_labels})*100,2)"
   ]
  },
  {
   "cell_type": "code",
   "execution_count": 17,
   "metadata": {
    "scrolled": false
   },
   "outputs": [
    {
     "name": "stdout",
     "output_type": "stream",
     "text": [
      "Number of training examples :  3823\n",
      "Number of testing examples :  1797\n",
      "Number of features :  64\n",
      "Shape of training data :  (3823, 64)\n",
      "Shape of testing data :  (1797, 64)\n",
      "Shape of training labels :  (3823, 10)\n",
      "Shape of testing labels :  (1797, 10)\n"
     ]
    },
    {
     "data": {
      "image/png": "[encoded data removed]",
      "text/plain": [
       "<matplotlib.figure.Figure at 0x117cda208>"
      ]
     },
     "metadata": {},
     "output_type": "display_data"
    },
    {
     "name": "stdout",
     "output_type": "stream",
     "text": [
      "Iteration number :  0\n",
      "Cost :  2.15237188339\n",
      "Training accuracy : 74.84 Testing accuracy : 71.4\n",
      "Iteration number :  50\n",
      "Cost :  0.291012942791\n",
      "Training accuracy : 94.56 Testing accuracy : 92.49\n",
      "Iteration number :  100\n",
      "Cost :  0.210722595453\n",
      "Training accuracy : 96.1 Testing accuracy : 93.32\n",
      "Iteration number :  150\n",
      "Cost :  0.184872880578\n",
      "Training accuracy : 96.65 Testing accuracy : 93.54\n",
      "Iteration number :  200\n",
      "Cost :  0.172374308109\n",
      "Training accuracy : 96.86 Testing accuracy : 93.77\n",
      "Iteration number :  250\n",
      "Cost :  0.165393933654\n",
      "Training accuracy : 96.97 Testing accuracy : 93.99\n",
      "Iteration number :  300\n",
      "Cost :  0.161157056689\n",
      "Training accuracy : 97.15 Testing accuracy : 94.16\n",
      "Iteration number :  350\n",
      "Cost :  0.158442139626\n",
      "Training accuracy : 97.17 Testing accuracy : 94.21\n",
      "Iteration number :  400\n",
      "Cost :  0.156639039516\n",
      "Training accuracy : 97.28 Testing accuracy : 94.32\n",
      "Iteration number :  450\n",
      "Cost :  0.155413687229\n",
      "Training accuracy : 97.28 Testing accuracy : 94.27\n",
      "Iteration number :  500\n",
      "Cost :  0.154569774866\n",
      "Training accuracy : 97.31 Testing accuracy : 94.21\n",
      "Iteration number :  550\n",
      "Cost :  0.153984501958\n",
      "Training accuracy : 97.28 Testing accuracy : 94.21\n",
      "Iteration number :  600\n",
      "Cost :  0.153577566147\n",
      "Training accuracy : 97.25 Testing accuracy : 94.21\n",
      "Iteration number :  650\n",
      "Cost :  0.153294727206\n",
      "Training accuracy : 97.23 Testing accuracy : 94.27\n",
      "Iteration number :  700\n",
      "Cost :  0.15309868753\n",
      "Training accuracy : 97.23 Testing accuracy : 94.27\n",
      "Iteration number :  750\n",
      "Cost :  0.152963280678\n",
      "Training accuracy : 97.23 Testing accuracy : 94.27\n",
      "Iteration number :  800\n",
      "Cost :  0.15287040174\n",
      "Training accuracy : 97.23 Testing accuracy : 94.27\n",
      "Iteration number :  850\n",
      "Cost :  0.152807176113\n",
      "Training accuracy : 97.23 Testing accuracy : 94.27\n",
      "Iteration number :  900\n",
      "Cost :  0.152764424682\n",
      "Training accuracy : 97.23 Testing accuracy : 94.27\n",
      "Iteration number :  950\n",
      "Cost :  0.152735725045\n",
      "Training accuracy : 97.23 Testing accuracy : 94.27\n"
     ]
    },
    {
     "data": {
      "image/png": "[encoded data removed]",
      "text/plain": [
       "<matplotlib.figure.Figure at 0x11786de48>"
      ]
     },
     "metadata": {},
     "output_type": "display_data"
    },
    {
     "data": {
      "image/png": "[encoded data removed]",
      "text/plain": [
       "<matplotlib.figure.Figure at 0x11672d6d8>"
      ]
     },
     "metadata": {},
     "output_type": "display_data"
    },
    {
     "data": {
      "image/png": "[encoded data removed]",
      "text/plain": [
       "<matplotlib.figure.Figure at 0x117a7d908>"
      ]
     },
     "metadata": {},
     "output_type": "display_data"
    },
    {
     "name": "stdout",
     "output_type": "stream",
     "text": [
      "Output is:  0\n"
     ]
    }
   ],
   "source": [
    "import tensorflow as tf\n",
    "import matplotlib.pyplot as plt\n",
    "import numpy as np\n",
    "import csv\n",
    "\n",
    "#LOAD INPUT\n",
    "input_train = np.genfromtxt('optdigits.tra.txt', delimiter=',')\n",
    "input_test = np.genfromtxt('optdigits.tes.txt', delimiter=',')\n",
    "\n",
    "#PRE PROCESS INPUT\n",
    "train_data,train_labels = input_train[:,0:input_train.shape[1]-1]/16,input_train[:,input_train.shape[1]-1]\n",
    "test_data,test_labels = input_test[:,0:input_test.shape[1]-1]/16,input_test[:,input_test.shape[1]-1]     \n",
    "processed_train_labels = one_hot_matrix(train_labels)\n",
    "processed_test_labels = one_hot_matrix(test_labels)\n",
    "\n",
    "#PRINT INFO ABOUT THE DATA\n",
    "print_info_about_data(train_data,test_data,processed_train_labels,processed_test_labels)\n",
    "\n",
    "#SHOW SAMPLE DATA\n",
    "show_sample(train_data,processed_train_labels,np.random.randint(train_data.shape[0]))\n",
    "\n",
    "#INITIALIZE VARIABLES AND PLACEHOLDERS\n",
    "x = tf.placeholder(\"float\", [None,64])\n",
    "y = tf.placeholder(\"float\", [None,10])\n",
    "W = tf.Variable(tf.zeros([64,10]))\n",
    "b = tf.Variable(tf.zeros([10]))\n",
    "beta = 0.001\n",
    "\n",
    "#LOGISTIC REGREGRESSION EQUATIONS\n",
    "yhat = tf.matmul(x,W) + b\n",
    "cross_entropy_cost = tf.reduce_mean(tf.nn.softmax_cross_entropy_with_logits(logits = yhat,labels = y))\n",
    "regularizer = tf.nn.l2_loss(W)\n",
    "cost = tf.reduce_mean(cross_entropy_cost + beta * regularizer)\n",
    "optimization_step = tf.train.AdamOptimizer(0.02).minimize(cost)\n",
    "   \n",
    "#CREATE SESSION AND INITIALIZE IT\n",
    "sess = tf.InteractiveSession()\n",
    "sess.run(tf.global_variables_initializer())\n",
    "\n",
    "#RUN GRADIENT DESCENT\n",
    "epochs = 1000\n",
    "train_acc = np.zeros(epochs//50) #converts to the lowest integer\n",
    "test_acc = np.zeros(epochs//50)\n",
    "cost = np.zeros(epochs//50)\n",
    "for i in range(epochs):   \n",
    "    sess.run(optimization_step,feed_dict={ x: train_data,y: processed_train_labels})\n",
    "    if (i%50 == 0):\n",
    "        print(\"Iteration number : \" , i)\n",
    "        cost[i//50] = sess.run(cross_entropy_cost,feed_dict = {x: train_data,y: processed_train_labels})\n",
    "        train_acc[i//50] = compute_accuracy(train_data,processed_train_labels)\n",
    "        test_acc[i//50] = compute_accuracy(test_data,processed_test_labels)       \n",
    "        print(\"Cost : \" , cost[i//50])       \n",
    "        print(\"Training accuracy :\" ,train_acc[i//50],\"Testing accuracy :\" ,test_acc[i//50]) \n",
    "        \n",
    "#PLOT COST, TRAINING AND TEST ACCURACY\n",
    "# Plot the accuracy curves\n",
    "plt.figure(figsize=(6,6))\n",
    "plt.title(\"Train and Test accuracy\")\n",
    "plt.plot(train_acc,'b-')\n",
    "plt.plot(test_acc,'r-')\n",
    "\n",
    "# Plot the confusion matrix\n",
    "pred = np.argmax(yhat.eval(feed_dict={x:test_data}), axis = 1)\n",
    "confusion_matrix = np.zeros([10,10])\n",
    "for p,t in zip(pred,np.argmax(processed_test_labels,axis=1)):\n",
    "    confusion_matrix[t,p] += 1\n",
    "plt.matshow(confusion_matrix)\n",
    "plt.colorbar()\n",
    "plt.show()\n",
    "\n",
    "#TESTING WITH SAMPLE IMAGE\n",
    "test_output_index = np.random.randint(test_data.shape[0])\n",
    "show_sample(test_data,processed_test_labels,test_output_index)\n",
    "print(\"Output is: \",np.argmax(sess.run(yhat,feed_dict={x:test_data[test_output_index:test_output_index+1,:]})))"
   ]
  },
  {
   "cell_type": "code",
   "execution_count": null,
   "metadata": {
    "collapsed": true
   },
   "outputs": [],
   "source": []
  }
 ],
 "metadata": {
  "kernelspec": {
   "display_name": "Python 3",
   "language": "python",
   "name": "python3"
  },
  "language_info": {
   "codemirror_mode": {
    "name": "ipython",
    "version": 3
   },
   "file_extension": ".py",
   "mimetype": "text/x-python",
   "name": "python",
   "nbconvert_exporter": "python",
   "pygments_lexer": "ipython3",
   "version": "3.6.2"
  }
 },
 "nbformat": 4,
 "nbformat_minor": 2
}
